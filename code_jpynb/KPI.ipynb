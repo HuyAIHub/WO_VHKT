{
 "cells": [
  {
   "cell_type": "code",
   "execution_count": 70,
   "metadata": {},
   "outputs": [],
   "source": [
    "import pandas as pd\n",
    "import numpy\n",
    "import numpy as np\n",
    "from datetime import datetime\n",
    "import matplotlib.pyplot as plt\n",
    "\n",
    "from sklearn.preprocessing import MinMaxScaler #chuẩn hóa dữ liệu\n",
    "from keras.callbacks import ModelCheckpoint #lưu lại huấn luyện tốt nhất\n",
    "from tensorflow.keras.models import load_model #tải mô hình\n",
    "\n",
    "#các lớp để xây dựng mô hình\n",
    "from keras.models import Sequential #đầu vào\n",
    "from keras.layers import LSTM #học phụ thuộc\n",
    "from keras.layers import Dropout #tránh học tủ\n",
    "from keras.layers import Dense #đầu ra\n",
    "\n",
    "#kiểm tra độ chính xác của mô hình\n",
    "from sklearn.metrics import r2_score #đo mức độ phù hợp\n",
    "from sklearn.metrics import mean_absolute_error #đo sai số tuyệt đối trung bình\n",
    "from sklearn.metrics import mean_absolute_percentage_error #đo % sai số tuyệt đối trung bình"
   ]
  },
  {
   "cell_type": "markdown",
   "metadata": {},
   "source": [
    "# preprocessing data and sort by date"
   ]
  },
  {
   "cell_type": "code",
   "execution_count": null,
   "metadata": {},
   "outputs": [],
   "source": [
    "\n",
    "# df = pd.read_excel('wo_all_years.xlsx',sheet_name=['2020', '2021','2022','Sheet4'])\n",
    "# df = pd.concat(df.values(), ignore_index=True)\n",
    "# # Chuyển đổi cột ngày sang kiểu dữ liệu datetime\n",
    "# df['date'] = pd.to_datetime(df['date'], format='%m-%Y-%d')\n",
    "\n",
    "# def convert(x):\n",
    "#     return x.strftime(format = '%Y-%m-%d')[2:]\n",
    "# data_date = df['date']\n",
    "# data_date = data_date.apply(convert)\n",
    "# df['date'] = data_date\n",
    "\n",
    "# # Convert the date column\n",
    "# df['date'] = df['date'].apply(lambda x: datetime.strptime(x, \"%d-%m-%y\").strftime(\"%Y-%m-%d\"))\n",
    "# df['date'] = pd.to_datetime(df['date'])\n",
    "\n",
    "# from matplotlib.dates import YearLocator, DateFormatter, MonthLocator # Thêm MonthLocator vào để sửa lỗi\n",
    "# # Chuyển đổi cột \"Ngày\" sang dạng datetime\n",
    "# df['date'] = pd.to_datetime(df['date'], format='%d/%m/%Y')\n",
    "\n",
    "# # Sắp xếp lại dữ liệu theo thứ tự thời gian\n",
    "# df = df.sort_values(by='date')\n",
    "\n",
    "# df.to_csv('kpi_vhkt.csv',index=False)\n"
   ]
  },
  {
   "cell_type": "code",
   "execution_count": 71,
   "metadata": {},
   "outputs": [],
   "source": [
    "df = pd.read_csv('kpi_vhkt.csv')"
   ]
  },
  {
   "cell_type": "code",
   "execution_count": 73,
   "metadata": {},
   "outputs": [],
   "source": [
    "df.rename(columns = {'sum_duration':'total_duration'}, inplace = True)"
   ]
  },
  {
   "cell_type": "code",
   "execution_count": null,
   "metadata": {},
   "outputs": [],
   "source": []
  },
  {
   "cell_type": "code",
   "execution_count": 69,
   "metadata": {},
   "outputs": [
    {
     "data": {
      "text/html": [
       "<div>\n",
       "<style scoped>\n",
       "    .dataframe tbody tr th:only-of-type {\n",
       "        vertical-align: middle;\n",
       "    }\n",
       "\n",
       "    .dataframe tbody tr th {\n",
       "        vertical-align: top;\n",
       "    }\n",
       "\n",
       "    .dataframe thead th {\n",
       "        text-align: right;\n",
       "    }\n",
       "</style>\n",
       "<table border=\"1\" class=\"dataframe\">\n",
       "  <thead>\n",
       "    <tr style=\"text-align: right;\">\n",
       "      <th></th>\n",
       "      <th>sum_duration</th>\n",
       "    </tr>\n",
       "  </thead>\n",
       "  <tbody>\n",
       "    <tr>\n",
       "      <th>count</th>\n",
       "      <td>7810.000000</td>\n",
       "    </tr>\n",
       "    <tr>\n",
       "      <th>mean</th>\n",
       "      <td>61336.775015</td>\n",
       "    </tr>\n",
       "    <tr>\n",
       "      <th>std</th>\n",
       "      <td>80243.622783</td>\n",
       "    </tr>\n",
       "    <tr>\n",
       "      <th>min</th>\n",
       "      <td>0.200000</td>\n",
       "    </tr>\n",
       "    <tr>\n",
       "      <th>25%</th>\n",
       "      <td>2973.192500</td>\n",
       "    </tr>\n",
       "    <tr>\n",
       "      <th>50%</th>\n",
       "      <td>24363.355000</td>\n",
       "    </tr>\n",
       "    <tr>\n",
       "      <th>75%</th>\n",
       "      <td>94069.305000</td>\n",
       "    </tr>\n",
       "    <tr>\n",
       "      <th>max</th>\n",
       "      <td>423854.490000</td>\n",
       "    </tr>\n",
       "  </tbody>\n",
       "</table>\n",
       "</div>"
      ],
      "text/plain": [
       "        sum_duration\n",
       "count    7810.000000\n",
       "mean    61336.775015\n",
       "std     80243.622783\n",
       "min         0.200000\n",
       "25%      2973.192500\n",
       "50%     24363.355000\n",
       "75%     94069.305000\n",
       "max    423854.490000"
      ]
     },
     "execution_count": 69,
     "metadata": {},
     "output_type": "execute_result"
    }
   ],
   "source": [
    "df.describe()"
   ]
  },
  {
   "cell_type": "code",
   "execution_count": null,
   "metadata": {},
   "outputs": [],
   "source": []
  }
 ],
 "metadata": {
  "kernelspec": {
   "display_name": "Python 3 (ipykernel)",
   "language": "python",
   "name": "python3"
  },
  "language_info": {
   "codemirror_mode": {
    "name": "ipython",
    "version": 3
   },
   "file_extension": ".py",
   "mimetype": "text/x-python",
   "name": "python",
   "nbconvert_exporter": "python",
   "pygments_lexer": "ipython3",
   "version": "3.10.12"
  }
 },
 "nbformat": 4,
 "nbformat_minor": 4
}

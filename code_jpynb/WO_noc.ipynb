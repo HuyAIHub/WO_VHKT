{
 "cells": [
  {
   "cell_type": "code",
   "execution_count": 3,
   "metadata": {
    "id": "vyEyDO45wVis"
   },
   "outputs": [],
   "source": [
    "import pandas as pd\n",
    "import numpy\n",
    "import numpy as np\n",
    "from datetime import datetime\n",
    "import matplotlib.pyplot as plt\n",
    "\n",
    "from sklearn.preprocessing import MinMaxScaler #chuẩn hóa dữ liệu\n",
    "from keras.callbacks import ModelCheckpoint #lưu lại huấn luyện tốt nhất\n",
    "from tensorflow.keras.models import load_model #tải mô hình\n",
    "\n",
    "#các lớp để xây dựng mô hình\n",
    "from keras.models import Sequential #đầu vào\n",
    "from keras.layers import LSTM #học phụ thuộc\n",
    "from keras.layers import Dropout #tránh học tủ\n",
    "from keras.layers import Dense #đầu ra\n",
    "\n",
    "#kiểm tra độ chính xác của mô hình\n",
    "from sklearn.metrics import r2_score #đo mức độ phù hợp\n",
    "from sklearn.metrics import mean_absolute_error #đo sai số tuyệt đối trung bình\n",
    "from sklearn.metrics import mean_absolute_percentage_error #đo % sai số tuyệt đối trung bình"
   ]
  },
  {
   "cell_type": "code",
   "execution_count": 4,
   "metadata": {
    "id": "_yc9x3GtwdBy"
   },
   "outputs": [],
   "source": [
    "df = pd.read_csv('kpi_vhkt.csv')"
   ]
  },
  {
   "cell_type": "code",
   "execution_count": 5,
   "metadata": {
    "colab": {
     "base_uri": "https://localhost:8080/",
     "height": 424
    },
    "id": "XaDRuM7a31MV",
    "outputId": "f3a72320-0d61-4982-8f44-75e4e755fc61"
   },
   "outputs": [
    {
     "data": {
      "text/html": [
       "<div>\n",
       "<style scoped>\n",
       "    .dataframe tbody tr th:only-of-type {\n",
       "        vertical-align: middle;\n",
       "    }\n",
       "\n",
       "    .dataframe tbody tr th {\n",
       "        vertical-align: top;\n",
       "    }\n",
       "\n",
       "    .dataframe thead th {\n",
       "        text-align: right;\n",
       "    }\n",
       "</style>\n",
       "<table border=\"1\" class=\"dataframe\">\n",
       "  <thead>\n",
       "    <tr style=\"text-align: right;\">\n",
       "      <th></th>\n",
       "      <th>date</th>\n",
       "      <th>phong_ban</th>\n",
       "      <th>total_duration</th>\n",
       "    </tr>\n",
       "  </thead>\n",
       "  <tbody>\n",
       "    <tr>\n",
       "      <th>0</th>\n",
       "      <td>2020-01-01</td>\n",
       "      <td>wo_co_dien</td>\n",
       "      <td>59856.56</td>\n",
       "    </tr>\n",
       "    <tr>\n",
       "      <th>1</th>\n",
       "      <td>2020-01-01</td>\n",
       "      <td>wo_others</td>\n",
       "      <td>308.45</td>\n",
       "    </tr>\n",
       "    <tr>\n",
       "      <th>2</th>\n",
       "      <td>2020-01-01</td>\n",
       "      <td>wo_ksnn</td>\n",
       "      <td>682.55</td>\n",
       "    </tr>\n",
       "    <tr>\n",
       "      <th>3</th>\n",
       "      <td>2020-01-01</td>\n",
       "      <td>wo_noc</td>\n",
       "      <td>1825.36</td>\n",
       "    </tr>\n",
       "    <tr>\n",
       "      <th>4</th>\n",
       "      <td>2020-01-02</td>\n",
       "      <td>wo_noc</td>\n",
       "      <td>4725.20</td>\n",
       "    </tr>\n",
       "    <tr>\n",
       "      <th>...</th>\n",
       "      <td>...</td>\n",
       "      <td>...</td>\n",
       "      <td>...</td>\n",
       "    </tr>\n",
       "    <tr>\n",
       "      <th>7805</th>\n",
       "      <td>2023-12-30</td>\n",
       "      <td>wo_noc</td>\n",
       "      <td>9872.19</td>\n",
       "    </tr>\n",
       "    <tr>\n",
       "      <th>7806</th>\n",
       "      <td>2023-12-31</td>\n",
       "      <td>wo_others</td>\n",
       "      <td>24601.24</td>\n",
       "    </tr>\n",
       "    <tr>\n",
       "      <th>7807</th>\n",
       "      <td>2023-12-31</td>\n",
       "      <td>wo_noc</td>\n",
       "      <td>9844.20</td>\n",
       "    </tr>\n",
       "    <tr>\n",
       "      <th>7808</th>\n",
       "      <td>2023-12-31</td>\n",
       "      <td>wo_ksnn</td>\n",
       "      <td>57173.30</td>\n",
       "    </tr>\n",
       "    <tr>\n",
       "      <th>7809</th>\n",
       "      <td>2023-12-31</td>\n",
       "      <td>wo_co_dien</td>\n",
       "      <td>342.89</td>\n",
       "    </tr>\n",
       "  </tbody>\n",
       "</table>\n",
       "<p>7810 rows × 3 columns</p>\n",
       "</div>"
      ],
      "text/plain": [
       "            date   phong_ban  total_duration\n",
       "0     2020-01-01  wo_co_dien        59856.56\n",
       "1     2020-01-01   wo_others          308.45\n",
       "2     2020-01-01     wo_ksnn          682.55\n",
       "3     2020-01-01      wo_noc         1825.36\n",
       "4     2020-01-02      wo_noc         4725.20\n",
       "...          ...         ...             ...\n",
       "7805  2023-12-30      wo_noc         9872.19\n",
       "7806  2023-12-31   wo_others        24601.24\n",
       "7807  2023-12-31      wo_noc         9844.20\n",
       "7808  2023-12-31     wo_ksnn        57173.30\n",
       "7809  2023-12-31  wo_co_dien          342.89\n",
       "\n",
       "[7810 rows x 3 columns]"
      ]
     },
     "execution_count": 5,
     "metadata": {},
     "output_type": "execute_result"
    }
   ],
   "source": [
    "df.rename(columns = {'sum_duration':'total_duration'}, inplace = True)\n",
    "df"
   ]
  },
  {
   "cell_type": "code",
   "execution_count": 6,
   "metadata": {},
   "outputs": [
    {
     "name": "stdout",
     "output_type": "stream",
     "text": [
      "Duplicate Rows:\n",
      "Empty DataFrame\n",
      "Columns: [date, phong_ban, total_duration]\n",
      "Index: []\n"
     ]
    }
   ],
   "source": [
    "# Check for duplicate rows\n",
    "duplicate_rows = df[df.duplicated()]\n",
    "\n",
    "# Print duplicate rows\n",
    "print(\"Duplicate Rows:\")\n",
    "print(duplicate_rows)"
   ]
  },
  {
   "cell_type": "code",
   "execution_count": 169,
   "metadata": {},
   "outputs": [],
   "source": [
    "df.drop_duplicates(inplace=True)"
   ]
  },
  {
   "cell_type": "code",
   "execution_count": 170,
   "metadata": {},
   "outputs": [
    {
     "data": {
      "text/html": [
       "<div>\n",
       "<style scoped>\n",
       "    .dataframe tbody tr th:only-of-type {\n",
       "        vertical-align: middle;\n",
       "    }\n",
       "\n",
       "    .dataframe tbody tr th {\n",
       "        vertical-align: top;\n",
       "    }\n",
       "\n",
       "    .dataframe thead th {\n",
       "        text-align: right;\n",
       "    }\n",
       "</style>\n",
       "<table border=\"1\" class=\"dataframe\">\n",
       "  <thead>\n",
       "    <tr style=\"text-align: right;\">\n",
       "      <th></th>\n",
       "      <th>date</th>\n",
       "      <th>phong_ban</th>\n",
       "      <th>total_duration</th>\n",
       "    </tr>\n",
       "  </thead>\n",
       "  <tbody>\n",
       "    <tr>\n",
       "      <th>0</th>\n",
       "      <td>2020-01-01</td>\n",
       "      <td>wo_co_dien</td>\n",
       "      <td>59856.56</td>\n",
       "    </tr>\n",
       "    <tr>\n",
       "      <th>1</th>\n",
       "      <td>2020-01-01</td>\n",
       "      <td>wo_others</td>\n",
       "      <td>308.45</td>\n",
       "    </tr>\n",
       "    <tr>\n",
       "      <th>2</th>\n",
       "      <td>2020-01-01</td>\n",
       "      <td>wo_ksnn</td>\n",
       "      <td>682.55</td>\n",
       "    </tr>\n",
       "    <tr>\n",
       "      <th>3</th>\n",
       "      <td>2020-01-01</td>\n",
       "      <td>wo_noc</td>\n",
       "      <td>1825.36</td>\n",
       "    </tr>\n",
       "    <tr>\n",
       "      <th>4</th>\n",
       "      <td>2020-01-02</td>\n",
       "      <td>wo_noc</td>\n",
       "      <td>4725.20</td>\n",
       "    </tr>\n",
       "    <tr>\n",
       "      <th>...</th>\n",
       "      <td>...</td>\n",
       "      <td>...</td>\n",
       "      <td>...</td>\n",
       "    </tr>\n",
       "    <tr>\n",
       "      <th>7805</th>\n",
       "      <td>2023-12-30</td>\n",
       "      <td>wo_noc</td>\n",
       "      <td>9872.19</td>\n",
       "    </tr>\n",
       "    <tr>\n",
       "      <th>7806</th>\n",
       "      <td>2023-12-31</td>\n",
       "      <td>wo_others</td>\n",
       "      <td>24601.24</td>\n",
       "    </tr>\n",
       "    <tr>\n",
       "      <th>7807</th>\n",
       "      <td>2023-12-31</td>\n",
       "      <td>wo_noc</td>\n",
       "      <td>9844.20</td>\n",
       "    </tr>\n",
       "    <tr>\n",
       "      <th>7808</th>\n",
       "      <td>2023-12-31</td>\n",
       "      <td>wo_ksnn</td>\n",
       "      <td>57173.30</td>\n",
       "    </tr>\n",
       "    <tr>\n",
       "      <th>7809</th>\n",
       "      <td>2023-12-31</td>\n",
       "      <td>wo_co_dien</td>\n",
       "      <td>342.89</td>\n",
       "    </tr>\n",
       "  </tbody>\n",
       "</table>\n",
       "<p>7810 rows × 3 columns</p>\n",
       "</div>"
      ],
      "text/plain": [
       "            date   phong_ban  total_duration\n",
       "0     2020-01-01  wo_co_dien        59856.56\n",
       "1     2020-01-01   wo_others          308.45\n",
       "2     2020-01-01     wo_ksnn          682.55\n",
       "3     2020-01-01      wo_noc         1825.36\n",
       "4     2020-01-02      wo_noc         4725.20\n",
       "...          ...         ...             ...\n",
       "7805  2023-12-30      wo_noc         9872.19\n",
       "7806  2023-12-31   wo_others        24601.24\n",
       "7807  2023-12-31      wo_noc         9844.20\n",
       "7808  2023-12-31     wo_ksnn        57173.30\n",
       "7809  2023-12-31  wo_co_dien          342.89\n",
       "\n",
       "[7810 rows x 3 columns]"
      ]
     },
     "execution_count": 170,
     "metadata": {},
     "output_type": "execute_result"
    }
   ],
   "source": [
    "df"
   ]
  },
  {
   "cell_type": "markdown",
   "metadata": {
    "id": "-cc8puryMzk4"
   },
   "source": [
    "# Preprocessing data"
   ]
  },
  {
   "cell_type": "markdown",
   "metadata": {
    "id": "YBiUJV4My4FZ"
   },
   "source": [
    "## Sort by date"
   ]
  },
  {
   "cell_type": "code",
   "execution_count": 7,
   "metadata": {
    "colab": {
     "base_uri": "https://localhost:8080/",
     "height": 424
    },
    "id": "NfFZTADANC-H",
    "outputId": "94003f23-a601-4992-e6cc-a1d78c19cfbc"
   },
   "outputs": [
    {
     "data": {
      "text/html": [
       "<div>\n",
       "<style scoped>\n",
       "    .dataframe tbody tr th:only-of-type {\n",
       "        vertical-align: middle;\n",
       "    }\n",
       "\n",
       "    .dataframe tbody tr th {\n",
       "        vertical-align: top;\n",
       "    }\n",
       "\n",
       "    .dataframe thead th {\n",
       "        text-align: right;\n",
       "    }\n",
       "</style>\n",
       "<table border=\"1\" class=\"dataframe\">\n",
       "  <thead>\n",
       "    <tr style=\"text-align: right;\">\n",
       "      <th></th>\n",
       "      <th>date</th>\n",
       "      <th>phong_ban</th>\n",
       "      <th>total_duration</th>\n",
       "    </tr>\n",
       "  </thead>\n",
       "  <tbody>\n",
       "    <tr>\n",
       "      <th>0</th>\n",
       "      <td>2020-01-01</td>\n",
       "      <td>wo_co_dien</td>\n",
       "      <td>59856.56</td>\n",
       "    </tr>\n",
       "    <tr>\n",
       "      <th>1</th>\n",
       "      <td>2020-01-01</td>\n",
       "      <td>wo_others</td>\n",
       "      <td>308.45</td>\n",
       "    </tr>\n",
       "    <tr>\n",
       "      <th>2</th>\n",
       "      <td>2020-01-01</td>\n",
       "      <td>wo_ksnn</td>\n",
       "      <td>682.55</td>\n",
       "    </tr>\n",
       "    <tr>\n",
       "      <th>3</th>\n",
       "      <td>2020-01-01</td>\n",
       "      <td>wo_noc</td>\n",
       "      <td>1825.36</td>\n",
       "    </tr>\n",
       "    <tr>\n",
       "      <th>4</th>\n",
       "      <td>2020-01-02</td>\n",
       "      <td>wo_noc</td>\n",
       "      <td>4725.20</td>\n",
       "    </tr>\n",
       "    <tr>\n",
       "      <th>...</th>\n",
       "      <td>...</td>\n",
       "      <td>...</td>\n",
       "      <td>...</td>\n",
       "    </tr>\n",
       "    <tr>\n",
       "      <th>7803</th>\n",
       "      <td>2023-12-30</td>\n",
       "      <td>wo_ksnn</td>\n",
       "      <td>62641.27</td>\n",
       "    </tr>\n",
       "    <tr>\n",
       "      <th>7807</th>\n",
       "      <td>2023-12-31</td>\n",
       "      <td>wo_noc</td>\n",
       "      <td>9844.20</td>\n",
       "    </tr>\n",
       "    <tr>\n",
       "      <th>7808</th>\n",
       "      <td>2023-12-31</td>\n",
       "      <td>wo_ksnn</td>\n",
       "      <td>57173.30</td>\n",
       "    </tr>\n",
       "    <tr>\n",
       "      <th>7806</th>\n",
       "      <td>2023-12-31</td>\n",
       "      <td>wo_others</td>\n",
       "      <td>24601.24</td>\n",
       "    </tr>\n",
       "    <tr>\n",
       "      <th>7809</th>\n",
       "      <td>2023-12-31</td>\n",
       "      <td>wo_co_dien</td>\n",
       "      <td>342.89</td>\n",
       "    </tr>\n",
       "  </tbody>\n",
       "</table>\n",
       "<p>7810 rows × 3 columns</p>\n",
       "</div>"
      ],
      "text/plain": [
       "            date   phong_ban  total_duration\n",
       "0     2020-01-01  wo_co_dien        59856.56\n",
       "1     2020-01-01   wo_others          308.45\n",
       "2     2020-01-01     wo_ksnn          682.55\n",
       "3     2020-01-01      wo_noc         1825.36\n",
       "4     2020-01-02      wo_noc         4725.20\n",
       "...          ...         ...             ...\n",
       "7803  2023-12-30     wo_ksnn        62641.27\n",
       "7807  2023-12-31      wo_noc         9844.20\n",
       "7808  2023-12-31     wo_ksnn        57173.30\n",
       "7806  2023-12-31   wo_others        24601.24\n",
       "7809  2023-12-31  wo_co_dien          342.89\n",
       "\n",
       "[7810 rows x 3 columns]"
      ]
     },
     "execution_count": 7,
     "metadata": {},
     "output_type": "execute_result"
    }
   ],
   "source": [
    "from matplotlib.dates import YearLocator, DateFormatter, MonthLocator # Thêm MonthLocator vào để sửa lỗi\n",
    "\n",
    "# Sắp xếp lại dữ liệu theo thứ tự thời gian\n",
    "df = df.sort_values(by='date')\n",
    "df"
   ]
  },
  {
   "cell_type": "markdown",
   "metadata": {
    "id": "0UOLeg9_zD-P"
   },
   "source": [
    "# Split data into Phong Ban"
   ]
  },
  {
   "cell_type": "code",
   "execution_count": 8,
   "metadata": {
    "colab": {
     "base_uri": "https://localhost:8080/"
    },
    "id": "i2nZM7lBNKv_",
    "outputId": "81139061-c730-404f-91e7-315eb5c1edad"
   },
   "outputs": [
    {
     "name": "stdout",
     "output_type": "stream",
     "text": [
      "Phòng ban: wo_co_dien\n",
      "            date   phong_ban  total_duration\n",
      "0     2020-01-01  wo_co_dien        59856.56\n",
      "7     2020-01-02  wo_co_dien       205396.18\n",
      "8     2020-01-03  wo_co_dien       238813.40\n",
      "14    2020-01-04  wo_co_dien       263309.13\n",
      "19    2020-01-05  wo_co_dien       281805.86\n",
      "...          ...         ...             ...\n",
      "7791  2023-12-27  wo_co_dien          585.66\n",
      "7794  2023-12-28  wo_co_dien          391.99\n",
      "7801  2023-12-29  wo_co_dien          291.98\n",
      "7802  2023-12-30  wo_co_dien          234.24\n",
      "7809  2023-12-31  wo_co_dien          342.89\n",
      "\n",
      "[1461 rows x 3 columns]\n",
      "Phòng ban: wo_ksnn\n",
      "            date phong_ban  total_duration\n",
      "2     2020-01-01   wo_ksnn          682.55\n",
      "5     2020-01-02   wo_ksnn         1611.54\n",
      "9     2020-01-03   wo_ksnn         1776.64\n",
      "13    2020-01-04   wo_ksnn         1981.34\n",
      "17    2020-01-05   wo_ksnn         2008.04\n",
      "...          ...       ...             ...\n",
      "7793  2023-12-27   wo_ksnn        79821.50\n",
      "7796  2023-12-28   wo_ksnn        74093.16\n",
      "7799  2023-12-29   wo_ksnn        68523.96\n",
      "7803  2023-12-30   wo_ksnn        62641.27\n",
      "7808  2023-12-31   wo_ksnn        57173.30\n",
      "\n",
      "[1460 rows x 3 columns]\n",
      "Phòng ban: wo_ktts\n",
      "            date phong_ban  total_duration\n",
      "26    2020-01-07   wo_ktts            1.73\n",
      "193   2020-02-11   wo_ktts            9.44\n",
      "200   2020-02-12   wo_ktts           24.00\n",
      "207   2020-02-13   wo_ktts           24.00\n",
      "208   2020-02-14   wo_ktts           24.00\n",
      "...          ...       ...             ...\n",
      "7413  2023-09-24   wo_ktts         1584.00\n",
      "7415  2023-09-25   wo_ktts         1584.00\n",
      "7420  2023-09-26   wo_ktts         1584.00\n",
      "7424  2023-09-27   wo_ktts         1584.00\n",
      "7429  2023-09-28   wo_ktts          644.23\n",
      "\n",
      "[1087 rows x 3 columns]\n",
      "Phòng ban: wo_noc\n",
      "            date phong_ban  total_duration\n",
      "3     2020-01-01    wo_noc         1825.36\n",
      "4     2020-01-02    wo_noc         4725.20\n",
      "11    2020-01-03    wo_noc         9869.28\n",
      "15    2020-01-04    wo_noc        11700.22\n",
      "16    2020-01-05    wo_noc        13324.29\n",
      "...          ...       ...             ...\n",
      "7792  2023-12-27    wo_noc        11723.09\n",
      "7797  2023-12-28    wo_noc        10208.14\n",
      "7798  2023-12-29    wo_noc        10022.66\n",
      "7805  2023-12-30    wo_noc         9872.19\n",
      "7807  2023-12-31    wo_noc         9844.20\n",
      "\n",
      "[1461 rows x 3 columns]\n",
      "Phòng ban: wo_others\n",
      "            date  phong_ban  total_duration\n",
      "1     2020-01-01  wo_others          308.45\n",
      "6     2020-01-02  wo_others         1148.91\n",
      "10    2020-01-03  wo_others         1822.48\n",
      "12    2020-01-04  wo_others         2888.70\n",
      "18    2020-01-05  wo_others         4200.74\n",
      "...          ...        ...             ...\n",
      "7790  2023-12-27  wo_others        59654.00\n",
      "7795  2023-12-28  wo_others        54250.64\n",
      "7800  2023-12-29  wo_others        45523.09\n",
      "7804  2023-12-30  wo_others        33199.07\n",
      "7806  2023-12-31  wo_others        24601.24\n",
      "\n",
      "[1461 rows x 3 columns]\n",
      "Phòng ban: wo_vt_cntt\n",
      "            date   phong_ban  total_duration\n",
      "67    2020-01-17  wo_vt_cntt         2895.47\n",
      "73    2020-01-18  wo_vt_cntt         9668.49\n",
      "77    2020-01-19  wo_vt_cntt        16169.80\n",
      "84    2020-01-20  wo_vt_cntt        22020.62\n",
      "88    2020-01-21  wo_vt_cntt        28404.93\n",
      "...          ...         ...             ...\n",
      "7269  2023-08-27  wo_vt_cntt           24.00\n",
      "7273  2023-08-28  wo_vt_cntt           24.00\n",
      "7280  2023-08-29  wo_vt_cntt           24.00\n",
      "7286  2023-08-30  wo_vt_cntt           24.00\n",
      "7291  2023-08-31  wo_vt_cntt            8.25\n",
      "\n",
      "[880 rows x 3 columns]\n"
     ]
    }
   ],
   "source": [
    "df = pd.DataFrame(df)\n",
    "\n",
    "# Tạo các nhóm dựa trên phòng ban\n",
    "grouped = df.groupby('phong_ban')\n",
    "# Hiển thị các nhóm\n",
    "for name, group in grouped:\n",
    "    print(\"Phòng ban:\", name)\n",
    "    print(group)\n",
    "# Tạo một từ điển để lưu trữ các DataFrame của từng phòng ban\n",
    "phong_ban_dict = {}\n",
    "# Tạo các DataFrame cho từng phòng ban và lưu vào từ điển\n",
    "for name, group in df.groupby('phong_ban'):\n",
    "    phong_ban_dict[name] = group"
   ]
  },
  {
   "cell_type": "markdown",
   "metadata": {
    "id": "TXkrSb5dzuJy"
   },
   "source": [
    "## save data frame by Phong Ban"
   ]
  },
  {
   "cell_type": "code",
   "execution_count": 9,
   "metadata": {
    "id": "tqoEzDjoRjCB"
   },
   "outputs": [],
   "source": [
    "df_wo_co_dien = phong_ban_dict['wo_co_dien']\n",
    "df_wo_ksnn = phong_ban_dict['wo_ksnn']\n",
    "df_wo_ktts = phong_ban_dict['wo_ktts']\n",
    "df_wo_noc = phong_ban_dict['wo_noc']\n",
    "df_wo_vt_cntt = phong_ban_dict['wo_vt_cntt']\n",
    "df_wo_others = phong_ban_dict['wo_others']"
   ]
  },
  {
   "cell_type": "markdown",
   "metadata": {
    "id": "k4RWHp2mzY7T"
   },
   "source": [
    "# Training model with Phong Ban : wo_noc"
   ]
  },
  {
   "cell_type": "markdown",
   "metadata": {
    "id": "owZRQ2iczhRC"
   },
   "source": [
    "## Preprocessing data"
   ]
  },
  {
   "cell_type": "markdown",
   "metadata": {
    "id": "fcn59Ocuz66b"
   },
   "source": [
    "### sum total duration by \"day\""
   ]
  },
  {
   "cell_type": "code",
   "execution_count": 10,
   "metadata": {},
   "outputs": [
    {
     "data": {
      "text/html": [
       "<div>\n",
       "<style scoped>\n",
       "    .dataframe tbody tr th:only-of-type {\n",
       "        vertical-align: middle;\n",
       "    }\n",
       "\n",
       "    .dataframe tbody tr th {\n",
       "        vertical-align: top;\n",
       "    }\n",
       "\n",
       "    .dataframe thead th {\n",
       "        text-align: right;\n",
       "    }\n",
       "</style>\n",
       "<table border=\"1\" class=\"dataframe\">\n",
       "  <thead>\n",
       "    <tr style=\"text-align: right;\">\n",
       "      <th></th>\n",
       "      <th>total_duration</th>\n",
       "    </tr>\n",
       "    <tr>\n",
       "      <th>date</th>\n",
       "      <th></th>\n",
       "    </tr>\n",
       "  </thead>\n",
       "  <tbody>\n",
       "    <tr>\n",
       "      <th>2020-01-01</th>\n",
       "      <td>1825.36</td>\n",
       "    </tr>\n",
       "    <tr>\n",
       "      <th>2020-01-02</th>\n",
       "      <td>4725.20</td>\n",
       "    </tr>\n",
       "    <tr>\n",
       "      <th>2020-01-03</th>\n",
       "      <td>9869.28</td>\n",
       "    </tr>\n",
       "    <tr>\n",
       "      <th>2020-01-04</th>\n",
       "      <td>11700.22</td>\n",
       "    </tr>\n",
       "    <tr>\n",
       "      <th>2020-01-05</th>\n",
       "      <td>13324.29</td>\n",
       "    </tr>\n",
       "    <tr>\n",
       "      <th>...</th>\n",
       "      <td>...</td>\n",
       "    </tr>\n",
       "    <tr>\n",
       "      <th>2023-12-27</th>\n",
       "      <td>11723.09</td>\n",
       "    </tr>\n",
       "    <tr>\n",
       "      <th>2023-12-28</th>\n",
       "      <td>10208.14</td>\n",
       "    </tr>\n",
       "    <tr>\n",
       "      <th>2023-12-29</th>\n",
       "      <td>10022.66</td>\n",
       "    </tr>\n",
       "    <tr>\n",
       "      <th>2023-12-30</th>\n",
       "      <td>9872.19</td>\n",
       "    </tr>\n",
       "    <tr>\n",
       "      <th>2023-12-31</th>\n",
       "      <td>9844.20</td>\n",
       "    </tr>\n",
       "  </tbody>\n",
       "</table>\n",
       "<p>1461 rows × 1 columns</p>\n",
       "</div>"
      ],
      "text/plain": [
       "            total_duration\n",
       "date                      \n",
       "2020-01-01         1825.36\n",
       "2020-01-02         4725.20\n",
       "2020-01-03         9869.28\n",
       "2020-01-04        11700.22\n",
       "2020-01-05        13324.29\n",
       "...                    ...\n",
       "2023-12-27        11723.09\n",
       "2023-12-28        10208.14\n",
       "2023-12-29        10022.66\n",
       "2023-12-30         9872.19\n",
       "2023-12-31         9844.20\n",
       "\n",
       "[1461 rows x 1 columns]"
      ]
     },
     "execution_count": 10,
     "metadata": {},
     "output_type": "execute_result"
    }
   ],
   "source": [
    "# Nhóm dữ liệu theo ngày và tính tổng thời gian\n",
    "df_wo_noc = df_wo_noc.groupby('date')['total_duration'].sum()\n",
    "\n",
    "# Tạo DataFrame mới từ kết quả\n",
    "df_wo_noc = pd.DataFrame(df_wo_noc, columns=['date', 'total_duration'])\n",
    "df_wo_noc.drop('date',axis=1,inplace=True)\n",
    "df_wo_noc"
   ]
  },
  {
   "cell_type": "markdown",
   "metadata": {
    "id": "26jhOHJ0-cRO"
   },
   "source": [
    "## build model LSTM"
   ]
  },
  {
   "cell_type": "markdown",
   "metadata": {
    "id": "cgryEFJ5RBIs"
   },
   "source": [
    "## Visualize"
   ]
  },
  {
   "cell_type": "code",
   "execution_count": 11,
   "metadata": {
    "colab": {
     "base_uri": "https://localhost:8080/",
     "height": 491
    },
    "id": "j6XkUrxkRA40",
    "outputId": "dd64adff-d253-47ff-e340-297363d14de4"
   },
   "outputs": [
    {
     "data": {
      "text/plain": [
       "<matplotlib.legend.Legend at 0x7fde5d230250>"
      ]
     },
     "execution_count": 11,
     "metadata": {},
     "output_type": "execute_result"
    },
    {
     "data": {
      "image/png": "[encoded data removed]",
      "text/plain": [
       "<Figure size 640x480 with 1 Axes>"
      ]
     },
     "metadata": {},
     "output_type": "display_data"
    }
   ],
   "source": [
    "plt.plot(df_wo_noc.index, df_wo_noc['total_duration'], label='total_duration', color='red')\n",
    "plt.xlabel('day')\n",
    "plt.ylabel('tota_duration')\n",
    "plt.title('Biểu đồ df_wo_noc')\n",
    "plt.legend(loc='best')"
   ]
  },
  {
   "cell_type": "code",
   "execution_count": 12,
   "metadata": {
    "colab": {
     "base_uri": "https://localhost:8080/"
    },
    "id": "qZcls-pJRUcz",
    "outputId": "b954b603-c210-47e5-9210-a51f6911ec74"
   },
   "outputs": [
    {
     "data": {
      "text/plain": [
       "(1461, 1)"
      ]
     },
     "execution_count": 12,
     "metadata": {},
     "output_type": "execute_result"
    }
   ],
   "source": [
    "df_wo_noc.shape"
   ]
  },
  {
   "cell_type": "code",
   "execution_count": 13,
   "metadata": {
    "id": "WsOstTNmzB3M"
   },
   "outputs": [],
   "source": [
    "#chia tập dữ liệu\n",
    "data = df_wo_noc.values\n",
    "train_data = data[:800]\n",
    "test_data = data[800:]"
   ]
  },
  {
   "cell_type": "code",
   "execution_count": 14,
   "metadata": {
    "id": "LSkt9-84lF44"
   },
   "outputs": [],
   "source": [
    "#chuẩn hóa dữ liệu\n",
    "sc = MinMaxScaler(feature_range=(0,1))\n",
    "sc_train = sc.fit_transform(data)"
   ]
  },
  {
   "cell_type": "code",
   "execution_count": 15,
   "metadata": {
    "id": "ZSsLA6fElH8M"
   },
   "outputs": [],
   "source": [
    "#tạo vòng lặp các giá trị\n",
    "mark = 30\n",
    "x_train,y_train=[],[]\n",
    "for i in range(mark,len(train_data)):\n",
    "  x_train.append(sc_train[i-mark:i,0]) #lấy 50 giá đóng cửa liên tục\n",
    "  y_train.append(sc_train[i,0]) #lấy ra giá đóng cửa ngày hôm sau"
   ]
  },
  {
   "cell_type": "code",
   "execution_count": 16,
   "metadata": {
    "id": "wQ-0VUH1lM7w"
   },
   "outputs": [],
   "source": [
    "#xếp dữ liệu thành 1 mảng 2 chiều\n",
    "x_train = np.array(x_train)\n",
    "y_train = np.array(y_train)\n",
    "\n",
    "#xếp lại dữ liệu thành mảng 1 chiều\n",
    "x_train = np.reshape(x_train,(x_train.shape[0],x_train.shape[1],1))\n",
    "y_train = np.reshape(y_train,(y_train.shape[0],1))"
   ]
  },
  {
   "cell_type": "code",
   "execution_count": 17,
   "metadata": {
    "id": "ZmR_idRUYPeb"
   },
   "outputs": [
    {
     "name": "stderr",
     "output_type": "stream",
     "text": [
      "2024-02-22 16:27:10.870876: I external/local_xla/xla/stream_executor/cuda/cuda_executor.cc:901] successful NUMA node read from SysFS had negative value (-1), but there must be at least one NUMA node, so returning NUMA node zero. See more at https://github.com/torvalds/linux/blob/v6.0/Documentation/ABI/testing/sysfs-bus-pci#L344-L355\n",
      "2024-02-22 16:27:10.872486: W tensorflow/core/common_runtime/gpu/gpu_device.cc:2256] Cannot dlopen some GPU libraries. Please make sure the missing libraries mentioned above are installed properly if you would like to use GPU. Follow the guide at https://www.tensorflow.org/install/gpu for how to download and setup the required libraries for your platform.\n",
      "Skipping registering GPU devices...\n"
     ]
    }
   ],
   "source": [
    "#xây dựng mô hình\n",
    "model = Sequential() #tạo lớp mạng cho dữ liệu đầu vào\n",
    "#2 lớp LSTM\n",
    "model.add(LSTM(units=128,input_shape=(x_train.shape[1],1),return_sequences=True))\n",
    "model.add(LSTM(units=64))\n",
    "model.add(Dropout(0.5)) #loại bỏ 1 số đơn vị tránh học tủ (overfitting)\n",
    "model.add(Dense(1)) #output đầu ra 1 chiều\n",
    "#đo sai số tuyệt đối trung bình có sử dụng trình tối ưu hóa adam\n",
    "model.compile(loss='mean_absolute_error',optimizer='adam')"
   ]
  },
  {
   "cell_type": "code",
   "execution_count": 18,
   "metadata": {
    "colab": {
     "base_uri": "https://localhost:8080/"
    },
    "id": "ofaeNnSjYTC0",
    "outputId": "718834ea-f838-4dca-9315-0e470c42748e"
   },
   "outputs": [
    {
     "name": "stdout",
     "output_type": "stream",
     "text": [
      "Epoch 1/80\n",
      "\n",
      "Epoch 1: loss improved from inf to 0.15149, saving model to save_model.hdf5\n",
      "16/16 - 3s - loss: 0.1515 - 3s/epoch - 189ms/step\n",
      "Epoch 2/80\n"
     ]
    },
    {
     "name": "stderr",
     "output_type": "stream",
     "text": [
      "/home/huydq/anaconda3/envs/vhkt/lib/python3.10/site-packages/keras/src/engine/training.py:3103: UserWarning: You are saving your model as an HDF5 file via `model.save()`. This file format is considered legacy. We recommend using instead the native Keras format, e.g. `model.save('my_model.keras')`.\n",
      "  saving_api.save_model(\n"
     ]
    },
    {
     "name": "stdout",
     "output_type": "stream",
     "text": [
      "\n",
      "Epoch 2: loss improved from 0.15149 to 0.08384, saving model to save_model.hdf5\n",
      "16/16 - 0s - loss: 0.0838 - 238ms/epoch - 15ms/step\n",
      "Epoch 3/80\n",
      "\n",
      "Epoch 3: loss improved from 0.08384 to 0.07408, saving model to save_model.hdf5\n",
      "16/16 - 0s - loss: 0.0741 - 227ms/epoch - 14ms/step\n",
      "Epoch 4/80\n",
      "\n",
      "Epoch 4: loss improved from 0.07408 to 0.06895, saving model to save_model.hdf5\n",
      "16/16 - 1s - loss: 0.0689 - 957ms/epoch - 60ms/step\n",
      "Epoch 5/80\n",
      "\n",
      "Epoch 5: loss improved from 0.06895 to 0.06710, saving model to save_model.hdf5\n",
      "16/16 - 0s - loss: 0.0671 - 265ms/epoch - 17ms/step\n",
      "Epoch 6/80\n",
      "\n",
      "Epoch 6: loss did not improve from 0.06710\n",
      "16/16 - 0s - loss: 0.0675 - 222ms/epoch - 14ms/step\n",
      "Epoch 7/80\n",
      "\n",
      "Epoch 7: loss improved from 0.06710 to 0.06616, saving model to save_model.hdf5\n",
      "16/16 - 0s - loss: 0.0662 - 231ms/epoch - 14ms/step\n",
      "Epoch 8/80\n",
      "\n",
      "Epoch 8: loss improved from 0.06616 to 0.06307, saving model to save_model.hdf5\n",
      "16/16 - 0s - loss: 0.0631 - 228ms/epoch - 14ms/step\n",
      "Epoch 9/80\n",
      "\n",
      "Epoch 9: loss improved from 0.06307 to 0.06243, saving model to save_model.hdf5\n",
      "16/16 - 1s - loss: 0.0624 - 1s/epoch - 66ms/step\n",
      "Epoch 10/80\n",
      "\n",
      "Epoch 10: loss improved from 0.06243 to 0.06087, saving model to save_model.hdf5\n",
      "16/16 - 0s - loss: 0.0609 - 261ms/epoch - 16ms/step\n",
      "Epoch 11/80\n",
      "\n",
      "Epoch 11: loss did not improve from 0.06087\n",
      "16/16 - 0s - loss: 0.0620 - 219ms/epoch - 14ms/step\n",
      "Epoch 12/80\n",
      "\n",
      "Epoch 12: loss improved from 0.06087 to 0.05885, saving model to save_model.hdf5\n",
      "16/16 - 0s - loss: 0.0589 - 239ms/epoch - 15ms/step\n",
      "Epoch 13/80\n",
      "\n",
      "Epoch 13: loss improved from 0.05885 to 0.05705, saving model to save_model.hdf5\n",
      "16/16 - 0s - loss: 0.0570 - 232ms/epoch - 15ms/step\n",
      "Epoch 14/80\n",
      "\n",
      "Epoch 14: loss improved from 0.05705 to 0.05586, saving model to save_model.hdf5\n",
      "16/16 - 0s - loss: 0.0559 - 230ms/epoch - 14ms/step\n",
      "Epoch 15/80\n",
      "\n",
      "Epoch 15: loss improved from 0.05586 to 0.05550, saving model to save_model.hdf5\n",
      "16/16 - 0s - loss: 0.0555 - 230ms/epoch - 14ms/step\n",
      "Epoch 16/80\n",
      "\n",
      "Epoch 16: loss did not improve from 0.05550\n",
      "16/16 - 0s - loss: 0.0560 - 217ms/epoch - 14ms/step\n",
      "Epoch 17/80\n",
      "\n",
      "Epoch 17: loss did not improve from 0.05550\n",
      "16/16 - 0s - loss: 0.0593 - 217ms/epoch - 14ms/step\n",
      "Epoch 18/80\n",
      "\n",
      "Epoch 18: loss improved from 0.05550 to 0.05498, saving model to save_model.hdf5\n",
      "16/16 - 0s - loss: 0.0550 - 229ms/epoch - 14ms/step\n",
      "Epoch 19/80\n",
      "\n",
      "Epoch 19: loss did not improve from 0.05498\n",
      "16/16 - 0s - loss: 0.0554 - 220ms/epoch - 14ms/step\n",
      "Epoch 20/80\n",
      "\n",
      "Epoch 20: loss improved from 0.05498 to 0.05444, saving model to save_model.hdf5\n",
      "16/16 - 0s - loss: 0.0544 - 230ms/epoch - 14ms/step\n",
      "Epoch 21/80\n",
      "\n",
      "Epoch 21: loss did not improve from 0.05444\n",
      "16/16 - 0s - loss: 0.0556 - 218ms/epoch - 14ms/step\n",
      "Epoch 22/80\n",
      "\n",
      "Epoch 22: loss improved from 0.05444 to 0.05147, saving model to save_model.hdf5\n",
      "16/16 - 0s - loss: 0.0515 - 229ms/epoch - 14ms/step\n",
      "Epoch 23/80\n",
      "\n",
      "Epoch 23: loss did not improve from 0.05147\n",
      "16/16 - 0s - loss: 0.0534 - 218ms/epoch - 14ms/step\n",
      "Epoch 24/80\n",
      "\n",
      "Epoch 24: loss improved from 0.05147 to 0.05076, saving model to save_model.hdf5\n",
      "16/16 - 0s - loss: 0.0508 - 234ms/epoch - 15ms/step\n",
      "Epoch 25/80\n",
      "\n",
      "Epoch 25: loss did not improve from 0.05076\n",
      "16/16 - 0s - loss: 0.0532 - 221ms/epoch - 14ms/step\n",
      "Epoch 26/80\n",
      "\n",
      "Epoch 26: loss did not improve from 0.05076\n",
      "16/16 - 0s - loss: 0.0525 - 219ms/epoch - 14ms/step\n",
      "Epoch 27/80\n",
      "\n",
      "Epoch 27: loss improved from 0.05076 to 0.05054, saving model to save_model.hdf5\n",
      "16/16 - 0s - loss: 0.0505 - 238ms/epoch - 15ms/step\n",
      "Epoch 28/80\n",
      "\n",
      "Epoch 28: loss did not improve from 0.05054\n",
      "16/16 - 0s - loss: 0.0507 - 220ms/epoch - 14ms/step\n",
      "Epoch 29/80\n",
      "\n",
      "Epoch 29: loss improved from 0.05054 to 0.04896, saving model to save_model.hdf5\n",
      "16/16 - 0s - loss: 0.0490 - 232ms/epoch - 14ms/step\n",
      "Epoch 30/80\n",
      "\n",
      "Epoch 30: loss did not improve from 0.04896\n",
      "16/16 - 0s - loss: 0.0503 - 219ms/epoch - 14ms/step\n",
      "Epoch 31/80\n",
      "\n",
      "Epoch 31: loss improved from 0.04896 to 0.04573, saving model to save_model.hdf5\n",
      "16/16 - 0s - loss: 0.0457 - 228ms/epoch - 14ms/step\n",
      "Epoch 32/80\n",
      "\n",
      "Epoch 32: loss did not improve from 0.04573\n",
      "16/16 - 0s - loss: 0.0474 - 225ms/epoch - 14ms/step\n",
      "Epoch 33/80\n",
      "\n",
      "Epoch 33: loss did not improve from 0.04573\n",
      "16/16 - 0s - loss: 0.0480 - 215ms/epoch - 13ms/step\n",
      "Epoch 34/80\n",
      "\n",
      "Epoch 34: loss did not improve from 0.04573\n",
      "16/16 - 0s - loss: 0.0467 - 213ms/epoch - 13ms/step\n",
      "Epoch 35/80\n",
      "\n",
      "Epoch 35: loss did not improve from 0.04573\n",
      "16/16 - 0s - loss: 0.0465 - 216ms/epoch - 14ms/step\n",
      "Epoch 36/80\n",
      "\n",
      "Epoch 36: loss improved from 0.04573 to 0.04560, saving model to save_model.hdf5\n",
      "16/16 - 0s - loss: 0.0456 - 243ms/epoch - 15ms/step\n",
      "Epoch 37/80\n",
      "\n",
      "Epoch 37: loss improved from 0.04560 to 0.04464, saving model to save_model.hdf5\n",
      "16/16 - 0s - loss: 0.0446 - 238ms/epoch - 15ms/step\n",
      "Epoch 38/80\n",
      "\n",
      "Epoch 38: loss improved from 0.04464 to 0.04449, saving model to save_model.hdf5\n",
      "16/16 - 0s - loss: 0.0445 - 244ms/epoch - 15ms/step\n",
      "Epoch 39/80\n",
      "\n",
      "Epoch 39: loss improved from 0.04449 to 0.04422, saving model to save_model.hdf5\n",
      "16/16 - 0s - loss: 0.0442 - 231ms/epoch - 14ms/step\n",
      "Epoch 40/80\n",
      "\n",
      "Epoch 40: loss did not improve from 0.04422\n",
      "16/16 - 0s - loss: 0.0447 - 216ms/epoch - 14ms/step\n",
      "Epoch 41/80\n",
      "\n",
      "Epoch 41: loss improved from 0.04422 to 0.04181, saving model to save_model.hdf5\n",
      "16/16 - 0s - loss: 0.0418 - 230ms/epoch - 14ms/step\n",
      "Epoch 42/80\n",
      "\n",
      "Epoch 42: loss improved from 0.04181 to 0.04118, saving model to save_model.hdf5\n",
      "16/16 - 0s - loss: 0.0412 - 231ms/epoch - 14ms/step\n",
      "Epoch 43/80\n",
      "\n",
      "Epoch 43: loss did not improve from 0.04118\n",
      "16/16 - 0s - loss: 0.0426 - 220ms/epoch - 14ms/step\n",
      "Epoch 44/80\n",
      "\n",
      "Epoch 44: loss did not improve from 0.04118\n",
      "16/16 - 0s - loss: 0.0429 - 215ms/epoch - 13ms/step\n",
      "Epoch 45/80\n",
      "\n",
      "Epoch 45: loss did not improve from 0.04118\n",
      "16/16 - 0s - loss: 0.0421 - 220ms/epoch - 14ms/step\n",
      "Epoch 46/80\n",
      "\n",
      "Epoch 46: loss did not improve from 0.04118\n",
      "16/16 - 0s - loss: 0.0426 - 218ms/epoch - 14ms/step\n",
      "Epoch 47/80\n",
      "\n",
      "Epoch 47: loss did not improve from 0.04118\n",
      "16/16 - 0s - loss: 0.0430 - 219ms/epoch - 14ms/step\n",
      "Epoch 48/80\n",
      "\n",
      "Epoch 48: loss did not improve from 0.04118\n",
      "16/16 - 0s - loss: 0.0414 - 220ms/epoch - 14ms/step\n",
      "Epoch 49/80\n",
      "\n",
      "Epoch 49: loss did not improve from 0.04118\n",
      "16/16 - 0s - loss: 0.0422 - 216ms/epoch - 14ms/step\n",
      "Epoch 50/80\n",
      "\n",
      "Epoch 50: loss did not improve from 0.04118\n",
      "16/16 - 0s - loss: 0.0415 - 247ms/epoch - 15ms/step\n",
      "Epoch 51/80\n",
      "\n",
      "Epoch 51: loss did not improve from 0.04118\n",
      "16/16 - 0s - loss: 0.0412 - 228ms/epoch - 14ms/step\n",
      "Epoch 52/80\n",
      "\n",
      "Epoch 52: loss did not improve from 0.04118\n",
      "16/16 - 0s - loss: 0.0433 - 291ms/epoch - 18ms/step\n",
      "Epoch 53/80\n",
      "\n",
      "Epoch 53: loss did not improve from 0.04118\n",
      "16/16 - 0s - loss: 0.0419 - 216ms/epoch - 13ms/step\n",
      "Epoch 54/80\n",
      "\n",
      "Epoch 54: loss improved from 0.04118 to 0.03904, saving model to save_model.hdf5\n",
      "16/16 - 0s - loss: 0.0390 - 233ms/epoch - 15ms/step\n",
      "Epoch 55/80\n",
      "\n",
      "Epoch 55: loss did not improve from 0.03904\n",
      "16/16 - 0s - loss: 0.0394 - 216ms/epoch - 13ms/step\n",
      "Epoch 56/80\n",
      "\n",
      "Epoch 56: loss did not improve from 0.03904\n",
      "16/16 - 0s - loss: 0.0394 - 216ms/epoch - 13ms/step\n",
      "Epoch 57/80\n",
      "\n",
      "Epoch 57: loss did not improve from 0.03904\n",
      "16/16 - 0s - loss: 0.0400 - 226ms/epoch - 14ms/step\n",
      "Epoch 58/80\n",
      "\n",
      "Epoch 58: loss did not improve from 0.03904\n",
      "16/16 - 0s - loss: 0.0399 - 226ms/epoch - 14ms/step\n",
      "Epoch 59/80\n",
      "\n",
      "Epoch 59: loss improved from 0.03904 to 0.03860, saving model to save_model.hdf5\n",
      "16/16 - 0s - loss: 0.0386 - 241ms/epoch - 15ms/step\n",
      "Epoch 60/80\n",
      "\n",
      "Epoch 60: loss improved from 0.03860 to 0.03824, saving model to save_model.hdf5\n",
      "16/16 - 0s - loss: 0.0382 - 234ms/epoch - 15ms/step\n",
      "Epoch 61/80\n",
      "\n",
      "Epoch 61: loss improved from 0.03824 to 0.03711, saving model to save_model.hdf5\n",
      "16/16 - 0s - loss: 0.0371 - 226ms/epoch - 14ms/step\n",
      "Epoch 62/80\n",
      "\n",
      "Epoch 62: loss did not improve from 0.03711\n",
      "16/16 - 0s - loss: 0.0377 - 217ms/epoch - 14ms/step\n",
      "Epoch 63/80\n",
      "\n",
      "Epoch 63: loss did not improve from 0.03711\n",
      "16/16 - 0s - loss: 0.0373 - 217ms/epoch - 14ms/step\n",
      "Epoch 64/80\n",
      "\n",
      "Epoch 64: loss did not improve from 0.03711\n",
      "16/16 - 0s - loss: 0.0383 - 216ms/epoch - 14ms/step\n",
      "Epoch 65/80\n",
      "\n",
      "Epoch 65: loss did not improve from 0.03711\n",
      "16/16 - 0s - loss: 0.0393 - 216ms/epoch - 14ms/step\n",
      "Epoch 66/80\n",
      "\n",
      "Epoch 66: loss did not improve from 0.03711\n",
      "16/16 - 0s - loss: 0.0395 - 218ms/epoch - 14ms/step\n",
      "Epoch 67/80\n",
      "\n",
      "Epoch 67: loss did not improve from 0.03711\n",
      "16/16 - 0s - loss: 0.0374 - 215ms/epoch - 13ms/step\n",
      "Epoch 68/80\n",
      "\n",
      "Epoch 68: loss did not improve from 0.03711\n",
      "16/16 - 0s - loss: 0.0384 - 215ms/epoch - 13ms/step\n",
      "Epoch 69/80\n",
      "\n",
      "Epoch 69: loss did not improve from 0.03711\n",
      "16/16 - 0s - loss: 0.0373 - 216ms/epoch - 14ms/step\n",
      "Epoch 70/80\n",
      "\n",
      "Epoch 70: loss did not improve from 0.03711\n",
      "16/16 - 0s - loss: 0.0380 - 216ms/epoch - 14ms/step\n",
      "Epoch 71/80\n",
      "\n",
      "Epoch 71: loss improved from 0.03711 to 0.03540, saving model to save_model.hdf5\n",
      "16/16 - 0s - loss: 0.0354 - 228ms/epoch - 14ms/step\n",
      "Epoch 72/80\n",
      "\n",
      "Epoch 72: loss did not improve from 0.03540\n",
      "16/16 - 0s - loss: 0.0370 - 216ms/epoch - 14ms/step\n",
      "Epoch 73/80\n",
      "\n",
      "Epoch 73: loss improved from 0.03540 to 0.03492, saving model to save_model.hdf5\n",
      "16/16 - 0s - loss: 0.0349 - 232ms/epoch - 15ms/step\n",
      "Epoch 74/80\n",
      "\n",
      "Epoch 74: loss did not improve from 0.03492\n",
      "16/16 - 0s - loss: 0.0367 - 217ms/epoch - 14ms/step\n",
      "Epoch 75/80\n",
      "\n",
      "Epoch 75: loss did not improve from 0.03492\n",
      "16/16 - 0s - loss: 0.0358 - 218ms/epoch - 14ms/step\n",
      "Epoch 76/80\n",
      "\n",
      "Epoch 76: loss improved from 0.03492 to 0.03429, saving model to save_model.hdf5\n",
      "16/16 - 0s - loss: 0.0343 - 228ms/epoch - 14ms/step\n",
      "Epoch 77/80\n",
      "\n",
      "Epoch 77: loss improved from 0.03429 to 0.03390, saving model to save_model.hdf5\n",
      "16/16 - 0s - loss: 0.0339 - 231ms/epoch - 14ms/step\n",
      "Epoch 78/80\n",
      "\n",
      "Epoch 78: loss did not improve from 0.03390\n",
      "16/16 - 0s - loss: 0.0348 - 223ms/epoch - 14ms/step\n",
      "Epoch 79/80\n",
      "\n",
      "Epoch 79: loss improved from 0.03390 to 0.03365, saving model to save_model.hdf5\n",
      "16/16 - 0s - loss: 0.0337 - 229ms/epoch - 14ms/step\n",
      "Epoch 80/80\n",
      "\n",
      "Epoch 80: loss did not improve from 0.03365\n",
      "16/16 - 0s - loss: 0.0365 - 217ms/epoch - 14ms/step\n"
     ]
    },
    {
     "data": {
      "text/plain": [
       "<keras.src.callbacks.History at 0x7fde599f66b0>"
      ]
     },
     "execution_count": 18,
     "metadata": {},
     "output_type": "execute_result"
    }
   ],
   "source": [
    "#huấn luyện mô hình\n",
    "save_model = \"save_model.hdf5\"\n",
    "best_model = ModelCheckpoint(save_model,monitor='loss',verbose=2,save_best_only=True,mode='auto')\n",
    "model.fit(x_train,y_train,epochs=80,batch_size=50,verbose=2,callbacks=[best_model])"
   ]
  },
  {
   "cell_type": "code",
   "execution_count": 19,
   "metadata": {
    "colab": {
     "base_uri": "https://localhost:8080/"
    },
    "id": "ECz052ox4nRa",
    "outputId": "20f5dcc4-abee-4565-ecb2-ce30ca191371"
   },
   "outputs": [
    {
     "name": "stdout",
     "output_type": "stream",
     "text": [
      "25/25 [==============================] - 0s 5ms/step\n"
     ]
    }
   ],
   "source": [
    "#dữ liệu train\n",
    "y_train = sc.inverse_transform(y_train) #giá thực\n",
    "final_model = load_model(\"save_model.hdf5\")\n",
    "y_train_predict = final_model.predict(x_train) #dự đoán giá đóng cửa trên tập đã train\n",
    "y_train_predict = sc.inverse_transform(y_train_predict) #giá dự đoán"
   ]
  },
  {
   "cell_type": "code",
   "execution_count": 21,
   "metadata": {
    "colab": {
     "base_uri": "https://localhost:8080/"
    },
    "id": "D17agaCC6FzA",
    "outputId": "e7484b0b-d499-44a5-b037-dc19cb3f648f"
   },
   "outputs": [
    {
     "name": "stdout",
     "output_type": "stream",
     "text": [
      "21/21 [==============================] - 0s 5ms/step\n"
     ]
    }
   ],
   "source": [
    "\n",
    "#xử lý dữ liệu test\n",
    "test = df_wo_noc[len(train_data)-mark:].values\n",
    "test = test.reshape(-1,1)\n",
    "sc_test = sc.transform(test)\n",
    "\n",
    "x_test = []\n",
    "for i in range(mark,test.shape[0]):\n",
    "  x_test.append(sc_test[i-mark:i,0])\n",
    "x_test = np.array(x_test)\n",
    "x_test = np.reshape(x_test,(x_test.shape[0],x_test.shape[1],1))\n",
    "\n",
    "#dữ liệu test\n",
    "y_test = data[800:] #giá thực\n",
    "y_test_predict = final_model.predict(x_test)\n",
    "y_test_predict = sc.inverse_transform(y_test_predict) #giá dự đoán"
   ]
  },
  {
   "cell_type": "code",
   "execution_count": 22,
   "metadata": {
    "colab": {
     "base_uri": "https://localhost:8080/",
     "height": 681
    },
    "id": "usn54fr-6dgn",
    "outputId": "50183f91-9f7b-4c17-ccc4-eaa5453ec31f"
   },
   "outputs": [
    {
     "name": "stderr",
     "output_type": "stream",
     "text": [
      "/tmp/ipykernel_2921293/2865306125.py:7: SettingWithCopyWarning: \n",
      "A value is trying to be set on a copy of a slice from a DataFrame.\n",
      "Try using .loc[row_indexer,col_indexer] = value instead\n",
      "\n",
      "See the caveats in the documentation: https://pandas.pydata.org/pandas-docs/stable/user_guide/indexing.html#returning-a-view-versus-a-copy\n",
      "  train_data1['Dự đoán'] = y_train_predict #thêm dữ liệu\n",
      "/tmp/ipykernel_2921293/2865306125.py:9: SettingWithCopyWarning: \n",
      "A value is trying to be set on a copy of a slice from a DataFrame.\n",
      "Try using .loc[row_indexer,col_indexer] = value instead\n",
      "\n",
      "See the caveats in the documentation: https://pandas.pydata.org/pandas-docs/stable/user_guide/indexing.html#returning-a-view-versus-a-copy\n",
      "  test_data1['Dự đoán'] = y_test_predict #thêm dữ liệu\n"
     ]
    },
    {
     "data": {
      "image/png": "[encoded data removed]",
      "text/plain": [
       "<Figure size 2400x800 with 1 Axes>"
      ]
     },
     "metadata": {},
     "output_type": "display_data"
    }
   ],
   "source": [
    "#lập biểu đồ so sánh\n",
    "train_data1 = df_wo_noc[mark:800]\n",
    "test_data1 = df_wo_noc[800:]\n",
    "\n",
    "plt.figure(figsize=(24,8))\n",
    "plt.plot(df_wo_noc,label='Total duration thực tế',color='red') #đường giá thực\n",
    "train_data1['Dự đoán'] = y_train_predict #thêm dữ liệu\n",
    "plt.plot(train_data1['Dự đoán'],label='Total duration dự đoán train',color='green') #đường giá dự báo train\n",
    "test_data1['Dự đoán'] = y_test_predict #thêm dữ liệu\n",
    "plt.plot(test_data1['Dự đoán'],label='Total duration dự đoán test',color='blue') #đường giá dự báo test\n",
    "plt.title('So sánh Total duration dự báo và Total duration thực tế') #đặt tên biểu đồ\n",
    "plt.xlabel('Thời gian') #đặt tên hàm x\n",
    "plt.ylabel('Total duration') #đặt tên hàm y\n",
    "plt.legend() #chú thích\n",
    "plt.show()"
   ]
  },
  {
   "cell_type": "code",
   "execution_count": 192,
   "metadata": {
    "colab": {
     "base_uri": "https://localhost:8080/"
    },
    "id": "k_W_0ZdC6yFD",
    "outputId": "25d4e2ab-66f1-4462-ca0b-47049619e8a5"
   },
   "outputs": [
    {
     "name": "stdout",
     "output_type": "stream",
     "text": [
      "Độ phù hợp tập train: 0.9569983498068771\n",
      "Sai số tuyệt đối trung bình trên tập train (VNĐ): 4916.803712129667\n",
      "Phần trăm sai số tuyệt đối trung bình tập train: 0.0980548549983062\n"
     ]
    }
   ],
   "source": [
    "#r2\n",
    "print('Độ phù hợp tập train:',r2_score(y_train,y_train_predict))\n",
    "#mae\n",
    "print('Sai số tuyệt đối trung bình trên tập train (VNĐ):',mean_absolute_error(y_train,y_train_predict))\n",
    "#mae\n",
    "print('Phần trăm sai số tuyệt đối trung bình tập train:',mean_absolute_percentage_error(y_train,y_train_predict))"
   ]
  },
  {
   "cell_type": "code",
   "execution_count": 193,
   "metadata": {
    "colab": {
     "base_uri": "https://localhost:8080/",
     "height": 455
    },
    "id": "-U9rbB2s2yNy",
    "outputId": "416412cc-3afe-4ba0-bd65-d51d4086971f"
   },
   "outputs": [
    {
     "data": {
      "text/html": [
       "<div>\n",
       "<style scoped>\n",
       "    .dataframe tbody tr th:only-of-type {\n",
       "        vertical-align: middle;\n",
       "    }\n",
       "\n",
       "    .dataframe tbody tr th {\n",
       "        vertical-align: top;\n",
       "    }\n",
       "\n",
       "    .dataframe thead th {\n",
       "        text-align: right;\n",
       "    }\n",
       "</style>\n",
       "<table border=\"1\" class=\"dataframe\">\n",
       "  <thead>\n",
       "    <tr style=\"text-align: right;\">\n",
       "      <th></th>\n",
       "      <th>total_duration</th>\n",
       "      <th>Dự đoán</th>\n",
       "    </tr>\n",
       "    <tr>\n",
       "      <th>date</th>\n",
       "      <th></th>\n",
       "      <th></th>\n",
       "    </tr>\n",
       "  </thead>\n",
       "  <tbody>\n",
       "    <tr>\n",
       "      <th>2020-01-31</th>\n",
       "      <td>8367.17</td>\n",
       "      <td>7476.101074</td>\n",
       "    </tr>\n",
       "    <tr>\n",
       "      <th>2020-02-01</th>\n",
       "      <td>8269.20</td>\n",
       "      <td>6873.606445</td>\n",
       "    </tr>\n",
       "    <tr>\n",
       "      <th>2020-02-02</th>\n",
       "      <td>12647.71</td>\n",
       "      <td>6780.375488</td>\n",
       "    </tr>\n",
       "    <tr>\n",
       "      <th>2020-02-03</th>\n",
       "      <td>14143.91</td>\n",
       "      <td>10448.969727</td>\n",
       "    </tr>\n",
       "    <tr>\n",
       "      <th>2020-02-04</th>\n",
       "      <td>14860.27</td>\n",
       "      <td>12415.443359</td>\n",
       "    </tr>\n",
       "    <tr>\n",
       "      <th>...</th>\n",
       "      <td>...</td>\n",
       "      <td>...</td>\n",
       "    </tr>\n",
       "    <tr>\n",
       "      <th>2022-03-06</th>\n",
       "      <td>33217.83</td>\n",
       "      <td>32661.626953</td>\n",
       "    </tr>\n",
       "    <tr>\n",
       "      <th>2022-03-07</th>\n",
       "      <td>32343.37</td>\n",
       "      <td>31332.363281</td>\n",
       "    </tr>\n",
       "    <tr>\n",
       "      <th>2022-03-08</th>\n",
       "      <td>31542.42</td>\n",
       "      <td>30383.583984</td>\n",
       "    </tr>\n",
       "    <tr>\n",
       "      <th>2022-03-09</th>\n",
       "      <td>30431.50</td>\n",
       "      <td>29548.792969</td>\n",
       "    </tr>\n",
       "    <tr>\n",
       "      <th>2022-03-10</th>\n",
       "      <td>29489.16</td>\n",
       "      <td>28464.525391</td>\n",
       "    </tr>\n",
       "  </tbody>\n",
       "</table>\n",
       "<p>770 rows × 2 columns</p>\n",
       "</div>"
      ],
      "text/plain": [
       "            total_duration       Dự đoán\n",
       "date                                    \n",
       "2020-01-31         8367.17   7476.101074\n",
       "2020-02-01         8269.20   6873.606445\n",
       "2020-02-02        12647.71   6780.375488\n",
       "2020-02-03        14143.91  10448.969727\n",
       "2020-02-04        14860.27  12415.443359\n",
       "...                    ...           ...\n",
       "2022-03-06        33217.83  32661.626953\n",
       "2022-03-07        32343.37  31332.363281\n",
       "2022-03-08        31542.42  30383.583984\n",
       "2022-03-09        30431.50  29548.792969\n",
       "2022-03-10        29489.16  28464.525391\n",
       "\n",
       "[770 rows x 2 columns]"
      ]
     },
     "execution_count": 193,
     "metadata": {},
     "output_type": "execute_result"
    }
   ],
   "source": [
    "train_data1"
   ]
  },
  {
   "cell_type": "code",
   "execution_count": 194,
   "metadata": {
    "colab": {
     "base_uri": "https://localhost:8080/"
    },
    "id": "IGlfep3P7qSN",
    "outputId": "6795aca8-eb52-4b85-9434-58822d495e49"
   },
   "outputs": [
    {
     "name": "stdout",
     "output_type": "stream",
     "text": [
      "Độ phù hợp tập test: 0.9343581389200316\n",
      "Sai số tuyệt đối trung bình trên tập test (VNĐ): 2269.2571832815565\n",
      "Phần trăm sai số tuyệt đối trung bình tập test: 0.1264776904903641\n"
     ]
    }
   ],
   "source": [
    "#r2\n",
    "print('Độ phù hợp tập test:',r2_score(y_test,y_test_predict))\n",
    "#mae\n",
    "print('Sai số tuyệt đối trung bình trên tập test (VNĐ):',mean_absolute_error(y_test,y_test_predict))\n",
    "#mae\n",
    "print('Phần trăm sai số tuyệt đối trung bình tập test:',mean_absolute_percentage_error(y_test,y_test_predict))"
   ]
  },
  {
   "cell_type": "code",
   "execution_count": 195,
   "metadata": {
    "colab": {
     "base_uri": "https://localhost:8080/",
     "height": 455
    },
    "id": "vMAxDiiR2vZe",
    "outputId": "7100387b-357a-4621-91e4-0933062a373a"
   },
   "outputs": [
    {
     "data": {
      "text/html": [
       "<div>\n",
       "<style scoped>\n",
       "    .dataframe tbody tr th:only-of-type {\n",
       "        vertical-align: middle;\n",
       "    }\n",
       "\n",
       "    .dataframe tbody tr th {\n",
       "        vertical-align: top;\n",
       "    }\n",
       "\n",
       "    .dataframe thead th {\n",
       "        text-align: right;\n",
       "    }\n",
       "</style>\n",
       "<table border=\"1\" class=\"dataframe\">\n",
       "  <thead>\n",
       "    <tr style=\"text-align: right;\">\n",
       "      <th></th>\n",
       "      <th>total_duration</th>\n",
       "      <th>Dự đoán</th>\n",
       "    </tr>\n",
       "    <tr>\n",
       "      <th>date</th>\n",
       "      <th></th>\n",
       "      <th></th>\n",
       "    </tr>\n",
       "  </thead>\n",
       "  <tbody>\n",
       "    <tr>\n",
       "      <th>2022-03-11</th>\n",
       "      <td>29006.62</td>\n",
       "      <td>27500.648438</td>\n",
       "    </tr>\n",
       "    <tr>\n",
       "      <th>2022-03-12</th>\n",
       "      <td>28100.86</td>\n",
       "      <td>26959.337891</td>\n",
       "    </tr>\n",
       "    <tr>\n",
       "      <th>2022-03-13</th>\n",
       "      <td>27565.53</td>\n",
       "      <td>26115.597656</td>\n",
       "    </tr>\n",
       "    <tr>\n",
       "      <th>2022-03-14</th>\n",
       "      <td>27244.67</td>\n",
       "      <td>25546.476562</td>\n",
       "    </tr>\n",
       "    <tr>\n",
       "      <th>2022-03-15</th>\n",
       "      <td>27150.85</td>\n",
       "      <td>25208.791016</td>\n",
       "    </tr>\n",
       "    <tr>\n",
       "      <th>...</th>\n",
       "      <td>...</td>\n",
       "      <td>...</td>\n",
       "    </tr>\n",
       "    <tr>\n",
       "      <th>2023-12-27</th>\n",
       "      <td>585.66</td>\n",
       "      <td>-315.627350</td>\n",
       "    </tr>\n",
       "    <tr>\n",
       "      <th>2023-12-28</th>\n",
       "      <td>391.99</td>\n",
       "      <td>-448.651031</td>\n",
       "    </tr>\n",
       "    <tr>\n",
       "      <th>2023-12-29</th>\n",
       "      <td>291.98</td>\n",
       "      <td>-624.133362</td>\n",
       "    </tr>\n",
       "    <tr>\n",
       "      <th>2023-12-30</th>\n",
       "      <td>234.24</td>\n",
       "      <td>-734.671631</td>\n",
       "    </tr>\n",
       "    <tr>\n",
       "      <th>2023-12-31</th>\n",
       "      <td>342.89</td>\n",
       "      <td>-796.393921</td>\n",
       "    </tr>\n",
       "  </tbody>\n",
       "</table>\n",
       "<p>661 rows × 2 columns</p>\n",
       "</div>"
      ],
      "text/plain": [
       "            total_duration       Dự đoán\n",
       "date                                    \n",
       "2022-03-11        29006.62  27500.648438\n",
       "2022-03-12        28100.86  26959.337891\n",
       "2022-03-13        27565.53  26115.597656\n",
       "2022-03-14        27244.67  25546.476562\n",
       "2022-03-15        27150.85  25208.791016\n",
       "...                    ...           ...\n",
       "2023-12-27          585.66   -315.627350\n",
       "2023-12-28          391.99   -448.651031\n",
       "2023-12-29          291.98   -624.133362\n",
       "2023-12-30          234.24   -734.671631\n",
       "2023-12-31          342.89   -796.393921\n",
       "\n",
       "[661 rows x 2 columns]"
      ]
     },
     "execution_count": 195,
     "metadata": {},
     "output_type": "execute_result"
    }
   ],
   "source": [
    "test_data1"
   ]
  },
  {
   "cell_type": "code",
   "execution_count": 158,
   "metadata": {},
   "outputs": [
    {
     "name": "stdout",
     "output_type": "stream",
     "text": [
      "Package                      Version\n",
      "---------------------------- ---------------\n",
      "absl-py                      2.1.0\n",
      "anyio                        4.3.0\n",
      "argon2-cffi                  23.1.0\n",
      "argon2-cffi-bindings         21.2.0\n",
      "arrow                        1.3.0\n",
      "asttokens                    2.4.1\n",
      "astunparse                   1.6.3\n",
      "async-lru                    2.0.4\n",
      "attrs                        23.2.0\n",
      "Babel                        2.14.0\n",
      "beautifulsoup4               4.12.3\n",
      "bleach                       6.1.0\n",
      "cachetools                   5.3.2\n",
      "certifi                      2024.2.2\n",
      "cffi                         1.16.0\n",
      "charset-normalizer           3.3.2\n",
      "comm                         0.2.1\n",
      "contourpy                    1.2.0\n",
      "cycler                       0.12.1\n",
      "debugpy                      1.8.1\n",
      "decorator                    5.1.1\n",
      "defusedxml                   0.7.1\n",
      "et-xmlfile                   1.1.0\n",
      "exceptiongroup               1.2.0\n",
      "executing                    2.0.1\n",
      "fastjsonschema               2.19.1\n",
      "flatbuffers                  23.5.26\n",
      "fonttools                    4.49.0\n",
      "fqdn                         1.5.1\n",
      "gast                         0.5.4\n",
      "google-auth                  2.28.0\n",
      "google-auth-oauthlib         1.2.0\n",
      "google-pasta                 0.2.0\n",
      "grpcio                       1.60.1\n",
      "h11                          0.14.0\n",
      "h5py                         3.10.0\n",
      "httpcore                     1.0.3\n",
      "httpx                        0.26.0\n",
      "idna                         3.6\n",
      "ipykernel                    6.29.2\n",
      "ipython                      8.21.0\n",
      "ipywidgets                   8.1.2\n",
      "isoduration                  20.11.0\n",
      "jedi                         0.19.1\n",
      "Jinja2                       3.1.3\n",
      "joblib                       1.3.2\n",
      "json5                        0.9.17\n",
      "jsonpointer                  2.4\n",
      "jsonschema                   4.21.1\n",
      "jsonschema-specifications    2023.12.1\n",
      "jupyter                      1.0.0\n",
      "jupyter_client               8.6.0\n",
      "jupyter-console              6.6.3\n",
      "jupyter_core                 5.7.1\n",
      "jupyter-events               0.9.0\n",
      "jupyter-lsp                  2.2.2\n",
      "jupyter_server               2.12.5\n",
      "jupyter_server_terminals     0.5.2\n",
      "jupyterlab                   4.1.2\n",
      "jupyterlab_pygments          0.3.0\n",
      "jupyterlab_server            2.25.3\n",
      "jupyterlab_widgets           3.0.10\n",
      "keras                        2.15.0\n",
      "kiwisolver                   1.4.5\n",
      "libclang                     16.0.6\n",
      "Markdown                     3.5.2\n",
      "MarkupSafe                   2.1.5\n",
      "matplotlib                   3.8.3\n",
      "matplotlib-inline            0.1.6\n",
      "mistune                      3.0.2\n",
      "ml-dtypes                    0.2.0\n",
      "nbclient                     0.9.0\n",
      "nbconvert                    7.16.1\n",
      "nbformat                     5.9.2\n",
      "nest-asyncio                 1.6.0\n",
      "notebook                     7.1.0\n",
      "notebook_shim                0.2.4\n",
      "numpy                        1.26.4\n",
      "oauthlib                     3.2.2\n",
      "openpyxl                     3.1.2\n",
      "opt-einsum                   3.3.0\n",
      "overrides                    7.7.0\n",
      "packaging                    23.2\n",
      "pandas                       2.2.0\n",
      "pandocfilters                1.5.1\n",
      "parso                        0.8.3\n",
      "pexpect                      4.9.0\n",
      "pillow                       10.2.0\n",
      "pip                          23.3.1\n",
      "platformdirs                 4.2.0\n",
      "prometheus_client            0.20.0\n",
      "prompt-toolkit               3.0.43\n",
      "protobuf                     4.25.3\n",
      "psutil                       5.9.8\n",
      "ptyprocess                   0.7.0\n",
      "pure-eval                    0.2.2\n",
      "pyasn1                       0.5.1\n",
      "pyasn1-modules               0.3.0\n",
      "pycparser                    2.21\n",
      "Pygments                     2.17.2\n",
      "pyparsing                    3.1.1\n",
      "python-dateutil              2.8.2\n",
      "python-json-logger           2.0.7\n",
      "pytz                         2024.1\n",
      "PyYAML                       6.0.1\n",
      "pyzmq                        25.1.2\n",
      "qtconsole                    5.5.1\n",
      "QtPy                         2.4.1\n",
      "referencing                  0.33.0\n",
      "requests                     2.31.0\n",
      "requests-oauthlib            1.3.1\n",
      "rfc3339-validator            0.1.4\n",
      "rfc3986-validator            0.1.1\n",
      "rpds-py                      0.18.0\n",
      "rsa                          4.9\n",
      "scikit-learn                 1.4.1.post1\n",
      "scipy                        1.12.0\n",
      "seaborn                      0.13.2\n",
      "Send2Trash                   1.8.2\n",
      "setuptools                   68.2.2\n",
      "six                          1.16.0\n",
      "sniffio                      1.3.0\n",
      "soupsieve                    2.5\n",
      "stack-data                   0.6.3\n",
      "tensorboard                  2.15.2\n",
      "tensorboard-data-server      0.7.2\n",
      "tensorflow                   2.15.0.post1\n",
      "tensorflow-estimator         2.15.0\n",
      "tensorflow-io-gcs-filesystem 0.36.0\n",
      "termcolor                    2.4.0\n",
      "terminado                    0.18.0\n",
      "threadpoolctl                3.3.0\n",
      "tinycss2                     1.2.1\n",
      "tomli                        2.0.1\n",
      "tornado                      6.4\n",
      "traitlets                    5.14.1\n",
      "types-python-dateutil        2.8.19.20240106\n",
      "typing_extensions            4.9.0\n",
      "tzdata                       2024.1\n",
      "uri-template                 1.3.0\n",
      "urllib3                      2.2.1\n",
      "wcwidth                      0.2.13\n",
      "webcolors                    1.13\n",
      "webencodings                 0.5.1\n",
      "websocket-client             1.7.0\n",
      "Werkzeug                     3.0.1\n",
      "wheel                        0.41.2\n",
      "widgetsnbextension           4.0.10\n",
      "wrapt                        1.14.1\n",
      "Note: you may need to restart the kernel to use updated packages.\n"
     ]
    }
   ],
   "source": [
    "pip list"
   ]
  },
  {
   "cell_type": "markdown",
   "metadata": {
    "id": "-_hoOm632e74"
   },
   "source": [
    "# future prediction"
   ]
  },
  {
   "cell_type": "code",
   "execution_count": 35,
   "metadata": {
    "colab": {
     "base_uri": "https://localhost:8080/",
     "height": 478
    },
    "id": "JBXEyetM2ZVd",
    "outputId": "7718a833-0557-4b47-b96b-9a84273d7331",
    "scrolled": true
   },
   "outputs": [
    {
     "ename": "KeyError",
     "evalue": "'Ngày'",
     "output_type": "error",
     "traceback": [
      "\u001b[0;31m---------------------------------------------------------------------------\u001b[0m",
      "\u001b[0;31mKeyError\u001b[0m                                  Traceback (most recent call last)",
      "\u001b[0;32m/usr/local/lib/python3.10/dist-packages/pandas/core/indexes/base.py\u001b[0m in \u001b[0;36mget_loc\u001b[0;34m(self, key, method, tolerance)\u001b[0m\n\u001b[1;32m   3801\u001b[0m             \u001b[0;32mtry\u001b[0m\u001b[0;34m:\u001b[0m\u001b[0;34m\u001b[0m\u001b[0;34m\u001b[0m\u001b[0m\n\u001b[0;32m-> 3802\u001b[0;31m                 \u001b[0;32mreturn\u001b[0m \u001b[0mself\u001b[0m\u001b[0;34m.\u001b[0m\u001b[0m_engine\u001b[0m\u001b[0;34m.\u001b[0m\u001b[0mget_loc\u001b[0m\u001b[0;34m(\u001b[0m\u001b[0mcasted_key\u001b[0m\u001b[0;34m)\u001b[0m\u001b[0;34m\u001b[0m\u001b[0;34m\u001b[0m\u001b[0m\n\u001b[0m\u001b[1;32m   3803\u001b[0m             \u001b[0;32mexcept\u001b[0m \u001b[0mKeyError\u001b[0m \u001b[0;32mas\u001b[0m \u001b[0merr\u001b[0m\u001b[0;34m:\u001b[0m\u001b[0;34m\u001b[0m\u001b[0;34m\u001b[0m\u001b[0m\n",
      "\u001b[0;32m/usr/local/lib/python3.10/dist-packages/pandas/_libs/index.pyx\u001b[0m in \u001b[0;36mpandas._libs.index.IndexEngine.get_loc\u001b[0;34m()\u001b[0m\n",
      "\u001b[0;32m/usr/local/lib/python3.10/dist-packages/pandas/_libs/index.pyx\u001b[0m in \u001b[0;36mpandas._libs.index.IndexEngine.get_loc\u001b[0;34m()\u001b[0m\n",
      "\u001b[0;32mpandas/_libs/hashtable_class_helper.pxi\u001b[0m in \u001b[0;36mpandas._libs.hashtable.PyObjectHashTable.get_item\u001b[0;34m()\u001b[0m\n",
      "\u001b[0;32mpandas/_libs/hashtable_class_helper.pxi\u001b[0m in \u001b[0;36mpandas._libs.hashtable.PyObjectHashTable.get_item\u001b[0;34m()\u001b[0m\n",
      "\u001b[0;31mKeyError\u001b[0m: 'Ngày'",
      "\nThe above exception was the direct cause of the following exception:\n",
      "\u001b[0;31mKeyError\u001b[0m                                  Traceback (most recent call last)",
      "\u001b[0;32m<ipython-input-35-2b1528de55df>\u001b[0m in \u001b[0;36m<cell line: 2>\u001b[0;34m()\u001b[0m\n\u001b[1;32m      1\u001b[0m \u001b[0;31m# Lấy ngày kế tiếp sau ngày cuối cùng trong tập dữ liệu để dự đoán\u001b[0m\u001b[0;34m\u001b[0m\u001b[0;34m\u001b[0m\u001b[0m\n\u001b[0;32m----> 2\u001b[0;31m \u001b[0mnext_date\u001b[0m \u001b[0;34m=\u001b[0m \u001b[0mdf\u001b[0m\u001b[0;34m[\u001b[0m\u001b[0;34m'Ngày'\u001b[0m\u001b[0;34m]\u001b[0m\u001b[0;34m.\u001b[0m\u001b[0miloc\u001b[0m\u001b[0;34m[\u001b[0m\u001b[0;34m-\u001b[0m\u001b[0;36m1\u001b[0m\u001b[0;34m]\u001b[0m \u001b[0;34m+\u001b[0m \u001b[0mpd\u001b[0m\u001b[0;34m.\u001b[0m\u001b[0mTimedelta\u001b[0m\u001b[0;34m(\u001b[0m\u001b[0mdays\u001b[0m\u001b[0;34m=\u001b[0m\u001b[0;36m1\u001b[0m\u001b[0;34m)\u001b[0m\u001b[0;34m\u001b[0m\u001b[0;34m\u001b[0m\u001b[0m\n\u001b[0m\u001b[1;32m      3\u001b[0m \u001b[0;34m\u001b[0m\u001b[0m\n\u001b[1;32m      4\u001b[0m \u001b[0;31m# Chuyển đổi ngày kế tiếp sang dạng datetime\u001b[0m\u001b[0;34m\u001b[0m\u001b[0;34m\u001b[0m\u001b[0m\n\u001b[1;32m      5\u001b[0m \u001b[0mnext_date\u001b[0m \u001b[0;34m=\u001b[0m \u001b[0mpd\u001b[0m\u001b[0;34m.\u001b[0m\u001b[0mto_datetime\u001b[0m\u001b[0;34m(\u001b[0m\u001b[0mnext_date\u001b[0m\u001b[0;34m)\u001b[0m\u001b[0;34m\u001b[0m\u001b[0;34m\u001b[0m\u001b[0m\n",
      "\u001b[0;32m/usr/local/lib/python3.10/dist-packages/pandas/core/frame.py\u001b[0m in \u001b[0;36m__getitem__\u001b[0;34m(self, key)\u001b[0m\n\u001b[1;32m   3805\u001b[0m             \u001b[0;32mif\u001b[0m \u001b[0mself\u001b[0m\u001b[0;34m.\u001b[0m\u001b[0mcolumns\u001b[0m\u001b[0;34m.\u001b[0m\u001b[0mnlevels\u001b[0m \u001b[0;34m>\u001b[0m \u001b[0;36m1\u001b[0m\u001b[0;34m:\u001b[0m\u001b[0;34m\u001b[0m\u001b[0;34m\u001b[0m\u001b[0m\n\u001b[1;32m   3806\u001b[0m                 \u001b[0;32mreturn\u001b[0m \u001b[0mself\u001b[0m\u001b[0;34m.\u001b[0m\u001b[0m_getitem_multilevel\u001b[0m\u001b[0;34m(\u001b[0m\u001b[0mkey\u001b[0m\u001b[0;34m)\u001b[0m\u001b[0;34m\u001b[0m\u001b[0;34m\u001b[0m\u001b[0m\n\u001b[0;32m-> 3807\u001b[0;31m             \u001b[0mindexer\u001b[0m \u001b[0;34m=\u001b[0m \u001b[0mself\u001b[0m\u001b[0;34m.\u001b[0m\u001b[0mcolumns\u001b[0m\u001b[0;34m.\u001b[0m\u001b[0mget_loc\u001b[0m\u001b[0;34m(\u001b[0m\u001b[0mkey\u001b[0m\u001b[0;34m)\u001b[0m\u001b[0;34m\u001b[0m\u001b[0;34m\u001b[0m\u001b[0m\n\u001b[0m\u001b[1;32m   3808\u001b[0m             \u001b[0;32mif\u001b[0m \u001b[0mis_integer\u001b[0m\u001b[0;34m(\u001b[0m\u001b[0mindexer\u001b[0m\u001b[0;34m)\u001b[0m\u001b[0;34m:\u001b[0m\u001b[0;34m\u001b[0m\u001b[0;34m\u001b[0m\u001b[0m\n\u001b[1;32m   3809\u001b[0m                 \u001b[0mindexer\u001b[0m \u001b[0;34m=\u001b[0m \u001b[0;34m[\u001b[0m\u001b[0mindexer\u001b[0m\u001b[0;34m]\u001b[0m\u001b[0;34m\u001b[0m\u001b[0;34m\u001b[0m\u001b[0m\n",
      "\u001b[0;32m/usr/local/lib/python3.10/dist-packages/pandas/core/indexes/base.py\u001b[0m in \u001b[0;36mget_loc\u001b[0;34m(self, key, method, tolerance)\u001b[0m\n\u001b[1;32m   3802\u001b[0m                 \u001b[0;32mreturn\u001b[0m \u001b[0mself\u001b[0m\u001b[0;34m.\u001b[0m\u001b[0m_engine\u001b[0m\u001b[0;34m.\u001b[0m\u001b[0mget_loc\u001b[0m\u001b[0;34m(\u001b[0m\u001b[0mcasted_key\u001b[0m\u001b[0;34m)\u001b[0m\u001b[0;34m\u001b[0m\u001b[0;34m\u001b[0m\u001b[0m\n\u001b[1;32m   3803\u001b[0m             \u001b[0;32mexcept\u001b[0m \u001b[0mKeyError\u001b[0m \u001b[0;32mas\u001b[0m \u001b[0merr\u001b[0m\u001b[0;34m:\u001b[0m\u001b[0;34m\u001b[0m\u001b[0;34m\u001b[0m\u001b[0m\n\u001b[0;32m-> 3804\u001b[0;31m                 \u001b[0;32mraise\u001b[0m \u001b[0mKeyError\u001b[0m\u001b[0;34m(\u001b[0m\u001b[0mkey\u001b[0m\u001b[0;34m)\u001b[0m \u001b[0;32mfrom\u001b[0m \u001b[0merr\u001b[0m\u001b[0;34m\u001b[0m\u001b[0;34m\u001b[0m\u001b[0m\n\u001b[0m\u001b[1;32m   3805\u001b[0m             \u001b[0;32mexcept\u001b[0m \u001b[0mTypeError\u001b[0m\u001b[0;34m:\u001b[0m\u001b[0;34m\u001b[0m\u001b[0;34m\u001b[0m\u001b[0m\n\u001b[1;32m   3806\u001b[0m                 \u001b[0;31m# If we have a listlike key, _check_indexing_error will raise\u001b[0m\u001b[0;34m\u001b[0m\u001b[0;34m\u001b[0m\u001b[0m\n",
      "\u001b[0;31mKeyError\u001b[0m: 'Ngày'"
     ]
    }
   ],
   "source": [
    "# Lấy ngày kế tiếp sau ngày cuối cùng trong tập dữ liệu để dự đoán\n",
    "next_date = df['Ngày'].iloc[-1] + pd.Timedelta(days=1)\n",
    "\n",
    "# Chuyển đổi ngày kế tiếp sang dạng datetime\n",
    "next_date = pd.to_datetime(next_date)\n",
    "\n",
    "# Lấy giá trị của ngày cuối cùng trong tập dữ liệu\n",
    "next_closing_price = np.array([df['Đóng cửa'].iloc[-1]])  # Lấy giá trị đóng cửa của ngày cuối cùng\n",
    "\n",
    "# Chuẩn hóa giá trị của ngày cuối cùng\n",
    "next_closing_price_normalized = sc.transform(next_closing_price.reshape(-1, 1))  # Chuyển thành mảng 2D\n",
    "\n",
    "# Tạo dự đoán cho ngày kế tiếp bằng mô hình đã huấn luyện\n",
    "x_next = np.array([sc_train[-50:, 0]])  # Lấy 50 giá đóng cửa gần nhất\n",
    "x_next = np.reshape(x_next, (x_next.shape[0], x_next.shape[1], 1))\n",
    "y_next_predict = final_model.predict(x_next)\n",
    "y_next_predict = sc.inverse_transform(y_next_predict)\n",
    "\n",
    "# Thêm dữ liệu dự đoán của ngày kế tiếp vào DataFrame\n",
    "df_next = pd.DataFrame({'Ngày': [next_date], 'Đóng cửa': [y_next_predict[0][0]]})\n",
    "df1 = pd.concat([df1, df_next])\n",
    "\n",
    "# Vẽ biểu đồ mới với dự đoán cho ngày kế tiếp\n",
    "plt.figure(figsize=(15, 5))\n",
    "plt.plot(df1['Ngày'], df1['Đóng cửa'], label='Giá thực tế', color='red')\n",
    "plt.plot(train_data1.index, train_data1['Dự đoán'], label='Giá dự đoán train', color='green')\n",
    "plt.plot(test_data1.index, test_data1['Dự đoán'], label='Giá dự đoán test', color='blue')\n",
    "plt.scatter([next_date], [y_next_predict[0][0]], color='orange', label='Dự đoán ngày kế tiếp')\n",
    "plt.xlabel('Thời gian')\n",
    "plt.ylabel('Giá đóng cửa (VNĐ)')\n",
    "plt.title('So sánh giá dự báo và giá thực tế')\n",
    "plt.legend()\n",
    "plt.show()"
   ]
  },
  {
   "cell_type": "code",
   "execution_count": 159,
   "metadata": {
    "id": "yBAcq5e42jDt"
   },
   "outputs": [
    {
     "name": "stdout",
     "output_type": "stream",
     "text": [
      "Model: \"sequential_2\"\n",
      "_________________________________________________________________\n",
      " Layer (type)                Output Shape              Param #   \n",
      "=================================================================\n",
      " lstm_4 (LSTM)               (None, 30, 128)           66560     \n",
      "                                                                 \n",
      " lstm_5 (LSTM)               (None, 64)                49408     \n",
      "                                                                 \n",
      " dropout_2 (Dropout)         (None, 64)                0         \n",
      "                                                                 \n",
      " dense_2 (Dense)             (None, 1)                 65        \n",
      "                                                                 \n",
      "=================================================================\n",
      "Total params: 116033 (453.25 KB)\n",
      "Trainable params: 116033 (453.25 KB)\n",
      "Non-trainable params: 0 (0.00 Byte)\n",
      "_________________________________________________________________\n"
     ]
    }
   ],
   "source": [
    "model.summary()"
   ]
  },
  {
   "cell_type": "code",
   "execution_count": null,
   "metadata": {},
   "outputs": [],
   "source": []
  }
 ],
 "metadata": {
  "colab": {
   "provenance": []
  },
  "kernelspec": {
   "display_name": "Python 3 (ipykernel)",
   "language": "python",
   "name": "python3"
  },
  "language_info": {
   "codemirror_mode": {
    "name": "ipython",
    "version": 3
   },
   "file_extension": ".py",
   "mimetype": "text/x-python",
   "name": "python",
   "nbconvert_exporter": "python",
   "pygments_lexer": "ipython3",
   "version": "3.10.12"
  }
 },
 "nbformat": 4,
 "nbformat_minor": 4
}
